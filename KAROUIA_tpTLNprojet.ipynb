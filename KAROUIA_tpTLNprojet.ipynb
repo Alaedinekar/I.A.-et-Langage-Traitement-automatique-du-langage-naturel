{
  "nbformat": 4,
  "nbformat_minor": 0,
  "metadata": {
    "colab": {
      "name": "KAROUIA_tpTLNprojet.ipynb",
      "provenance": [],
      "collapsed_sections": []
    },
    "kernelspec": {
      "name": "python3",
      "display_name": "Python 3"
    },
    "language_info": {
      "name": "python"
    }
  },
  "cells": [
    {
      "cell_type": "markdown",
      "metadata": {
        "id": "Ykqz28ruofM1"
      },
      "source": [
        "\n",
        "# README\n",
        "# Système QA avec TALN\n",
        "KAROUIA Alaedine \n",
        "\n",
        "<br/>\n",
        "<br/>\n",
        "<br/>\n",
        "\n",
        "# Pré-requis\n",
        "Le programme nécessite d'importer dans le dossier content de google colab les fichiers relation et question.\n",
        "\n",
        "En cas de message d'erreur généré par NLTK, merci d'installer les dépendances requises.\n",
        "\n",
        "<br/>\n",
        "\n",
        "# Problèmes rencontrés\n",
        "Lorsque les requêtes sparql ne fonctionne pas, la probabilité d'avoir une réponse correcte se reduit, car on dépend de la requête lookup qui est moins précise. Et il arrive que l'api lookup de ne fonctionner pas. Dans ces cas-là, je ne compte pas l'erreur.\n",
        "\n",
        "\n",
        "Un autre probleme rencontré est le choix des methodes pour trouver des similarités entre les mots, car ils existent beaucoup de manière de faire.\n",
        "\n",
        "\n",
        "\n",
        "# Amelioration\n",
        "\n",
        "Utiliser des corpus de données, cela permettrait de retrouver des mots plus facilement. Les synonymes se trouveraient beaucoup plus facilement de cette manière.\n",
        "<br/>\n",
        "\n",
        "# Sources\n",
        "- Documentation Python\n",
        "- Documentation NLTK\n",
        "- https://www.nltk.org/howto/wordnet.html\n",
        "- http://www.nltk.org/howto/metrics.html\n",
        "- https://stackoverflow.com/questions/3282823/get-the-key-corresponding-to-the-minimum-value-within-a-dictionary\n"
      ]
    },
    {
      "cell_type": "code",
      "metadata": {
        "colab": {
          "base_uri": "https://localhost:8080/"
        },
        "id": "kiJc3JxJULlx",
        "outputId": "d3fdb3ea-be16-419d-c390-0801300bb1a9"
      },
      "source": [
        "pip install sparqlwrapper"
      ],
      "execution_count": null,
      "outputs": [
        {
          "output_type": "stream",
          "name": "stdout",
          "text": [
            "Requirement already satisfied: sparqlwrapper in /usr/local/lib/python3.7/dist-packages (1.8.5)\n",
            "Requirement already satisfied: rdflib>=4.0 in /usr/local/lib/python3.7/dist-packages (from sparqlwrapper) (6.0.2)\n",
            "Requirement already satisfied: isodate in /usr/local/lib/python3.7/dist-packages (from rdflib>=4.0->sparqlwrapper) (0.6.0)\n",
            "Requirement already satisfied: pyparsing in /usr/local/lib/python3.7/dist-packages (from rdflib>=4.0->sparqlwrapper) (2.4.7)\n",
            "Requirement already satisfied: setuptools in /usr/local/lib/python3.7/dist-packages (from rdflib>=4.0->sparqlwrapper) (57.4.0)\n",
            "Requirement already satisfied: six in /usr/local/lib/python3.7/dist-packages (from isodate->rdflib>=4.0->sparqlwrapper) (1.15.0)\n"
          ]
        }
      ]
    },
    {
      "cell_type": "markdown",
      "metadata": {
        "id": "oTKvDA7xWdAV"
      },
      "source": [
        "#LES IMPORTS"
      ]
    },
    {
      "cell_type": "code",
      "metadata": {
        "colab": {
          "base_uri": "https://localhost:8080/"
        },
        "id": "6LAZ5jl-J1G4",
        "outputId": "a2e96f70-b7b9-4aa0-82ab-2d52f864b7ca"
      },
      "source": [
        "import nltk\n",
        "import numpy\n",
        "from nltk.chunk import conlltags2tree, tree2conlltags\n",
        "from pprint import pprint\n",
        "from nltk.tokenize import word_tokenize\n",
        "from nltk.tag import pos_tag\n",
        "from nltk.corpus import stopwords\n",
        "import xml.etree.ElementTree as ET\n",
        "import random\n",
        "import spacy\n",
        "from spacy import displacy\n",
        "from collections import Counter\n",
        "import en_core_web_sm\n",
        "import re\n",
        "import requests\n",
        "import asyncio\n",
        "from nltk.corpus import wordnet\n",
        "from nltk.corpus import wordnet as wn\n",
        "from SPARQLWrapper import *\n",
        "\n",
        "nlp = en_core_web_sm.load()\n",
        "nltk.download('averaged_perceptron_tagger')\n",
        "nltk.download('punkt')\n",
        "nltk.download('wordnet')\n",
        "nltk.download(\"stopwords\")\n",
        "#Let install sparqlwrapper which a python wrapper around sparql client\n",
        "\n",
        "\n"
      ],
      "execution_count": null,
      "outputs": [
        {
          "output_type": "stream",
          "name": "stdout",
          "text": [
            "[nltk_data] Downloading package averaged_perceptron_tagger to\n",
            "[nltk_data]     /root/nltk_data...\n",
            "[nltk_data]   Package averaged_perceptron_tagger is already up-to-\n",
            "[nltk_data]       date!\n",
            "[nltk_data] Downloading package punkt to /root/nltk_data...\n",
            "[nltk_data]   Package punkt is already up-to-date!\n",
            "[nltk_data] Downloading package wordnet to /root/nltk_data...\n",
            "[nltk_data]   Package wordnet is already up-to-date!\n",
            "[nltk_data] Downloading package stopwords to /root/nltk_data...\n",
            "[nltk_data]   Package stopwords is already up-to-date!\n"
          ]
        },
        {
          "output_type": "execute_result",
          "data": {
            "text/plain": [
              "True"
            ]
          },
          "metadata": {},
          "execution_count": 56
        }
      ]
    },
    {
      "cell_type": "markdown",
      "metadata": {
        "id": "xYcw7miYWYhb"
      },
      "source": [
        "question et reponse de test"
      ]
    },
    {
      "cell_type": "code",
      "metadata": {
        "id": "tPc923JybWqT"
      },
      "source": [
        "questionsTest = [\n",
        "    \"Which river does the Brooklyn Bridge cross?\",\n",
        "    \"Who created Wikipedia?\",\n",
        "    \"In which country does the Nile start?\",\n",
        "    \"What is the highest place of Karakoram?\",\n",
        "    \"Who designed the Brooklyn Bridge?\",\n",
        "    \"Who created Goofy?\",\n",
        "    \"Who is the mayor of New York City?\",\n",
        "    \"Through which countries does the Yenisei river flow?\",\n",
        "    \"Which museum exhibits The Scream by Munch?\",\n",
        "    \"Which states border Illinois?\",\n",
        "    \"Who was the wife of US president Lincoln?\",\n",
        "    \"In which programming language is GIMP written?\",\n",
        "    \"In which country is the Limerick Lake?\",\n",
        "    \"What are the official languages of the Philippines?\",\n",
        "    \"Who owns Aldi?\",\n",
        "    \"What is the area code of Berlin?\",\n",
        "    \"When was the Battle of Gettysburg?\",\n",
        "    \"Who developed the video game World of Warcraft?\",\n",
        "    \"Give me the homepage of Forbes.\",\n",
        "    \"Which awards did WikiLeaks win?\",\n",
        "    \"Give me all actors starring in Last Action Hero.\",\n",
        "    \"Who is the owner of Universal Studios?\",\n",
        "    \"What did Bruce Carver die from?\"\n",
        "\n",
        "]\n",
        "\n",
        "answersTest = [\n",
        "    [\"http://dbpedia.org/resource/East_River\"],\n",
        "    [\"http://dbpedia.org/resource/Jimmy_Wales\", \"http://dbpedia.org/resource/Larry_Sanger\"],\n",
        "    [\"http://dbpedia.org/resource/Ethiopia\", \"http://dbpedia.org/resource/Ethiopia\"],\n",
        "    [\"http://dbpedia.org/resource/K2\"],\n",
        "    [\"http://dbpedia.org/resource/John_A._Roebling\", \"http://dbpedia.org/resource/John_Augustus_Roebling\"],\n",
        "    [\"http://dbpedia.org/resource/Art_Babbitt\"],\n",
        "    [\"http://dbpedia.org/resource/Michael_Bloomberg\"],\n",
        "    [\"http://dbpedia.org/resource/Mongolia\", \"http://dbpedia.org/resource/Russia\"],\n",
        "    [\"http://dbpedia.org/resource/National_Gallery_of_Norway\", \"http://dbpedia.org/resource/National_Gallery,_Oslo\"],\n",
        "    [\"http://dbpedia.org/resource/Kentucky\", \"http://dbpedia.org/resource/Missouri\",\n",
        "     \"http://dbpedia.org/resource/Wisconsin\", \"http://dbpedia.org/resource/Indiana\",\n",
        "     \"http://dbpedia.org/resource/Iowa\"],\n",
        "    [\"http://dbpedia.org/resource/Mary_Todd_Lincoln\"],\n",
        "    [\"http://dbpedia.org/resource/C_(programming_language)\", \"http://dbpedia.org/resource/GTK+\"],\n",
        "    [\"http://dbpedia.org/resource/Canada\"],\n",
        "    [\"http://dbpedia.org/resource/Filipino_language\"],\n",
        "    \n",
        "    [\"http://dbpedia.org/resource/Karl_Albrecht\", \"http://dbpedia.org/resource/Theo_Albrecht\"],\n",
        "    [\"030\"],\n",
        "   \n",
        "    [\"1863-07-03\"],\n",
        "    [\"http://dbpedia.org/resource/Blizzard_Entertainment\"],\n",
        "     \n",
        "    [\"http://www.forbes.com\"],\n",
        "    [\"http://dbpedia.org/resource/Index_on_Censorship\",\n",
        "     \"http://dbpedia.org/resource/Amnesty_International_UK_Media_Awards\",\n",
        "     \"http://dbpedia.org/resource/Sam_Adams_Award\"],\n",
        "    [\"http://dbpedia.org/resource/Arnold_Schwarzenegger\", \"http://dbpedia.org/resource/Anthony_Quinn\",\n",
        "     \"http://dbpedia.org/resource/F._Murray_Abraham\", \"http://dbpedia.org/resource/Art_Carney\",\n",
        "     \"http://dbpedia.org/resource/Austin_O'Brien\", \"http://dbpedia.org/resource/Tom_Noonan\",\n",
        "     \"http://dbpedia.org/resource/Bridgette_Wilson\", \"http://dbpedia.org/resource/Charles_Dance\",\n",
        "     \"http://dbpedia.org/resource/Robert_Prosky\"],\n",
        "    [\"http://dbpedia.org/resource/General_Electric\", \"http://dbpedia.org/resource/MCA_Inc.\",\n",
        "     \"http://dbpedia.org/resource/Seagram\", \"http://dbpedia.org/resource/Comcast\",\n",
        "     \"http://dbpedia.org/resource/NBCUniversal\", \"http://dbpedia.org/resource/Vivendi\",\n",
        "     \"http://dbpedia.org/resource/Independent_business\"],\n",
        "    [\"http://dbpedia.org/resource/Cancer\"]\n",
        "\n",
        "]"
      ],
      "execution_count": null,
      "outputs": []
    },
    {
      "cell_type": "code",
      "metadata": {
        "id": "4WXaqbNkZWdt",
        "colab": {
          "base_uri": "https://localhost:8080/"
        },
        "outputId": "e68a6272-4b59-45c1-b54a-be5d7195960f"
      },
      "source": [
        "\n",
        "tree = ET.parse(\"/content/questions.xml\") # ajouter les fichiers question et relations dans le dossier content de google colab\n",
        "root = tree.getroot()\n",
        "gold_standard_answers = []\n",
        "questions = []\n",
        "for child in root:\n",
        "    for question in child:\n",
        "        if(question.tag == 'string' and question.attrib['lang'] == 'en'):\n",
        "            questions.append(question.text)\n",
        "        for answer in question:\n",
        "              \n",
        "              for uri in answer:\n",
        "                  gold_standard_answers.append(uri.text)\n",
        "\n",
        "print(len(questions))\n",
        "print(gold_standard_answers)\n",
        "#on recupere les questions et reponses\n"
      ],
      "execution_count": null,
      "outputs": [
        {
          "output_type": "stream",
          "name": "stdout",
          "text": [
            "25\n",
            "['http://dbpedia.org/resource/East_River', 'http://dbpedia.org/resource/Jimmy_Wales', 'http://dbpedia.org/resource/Larry_Sanger', 'http://dbpedia.org/resource/Ethiopia', 'http://dbpedia.org/resource/Lake_Tana', 'http://dbpedia.org/resource/K2', 'http://dbpedia.org/resource/John_A._Roebling', 'http://dbpedia.org/resource/The_Walt_Disney_Company', 'http://dbpedia.org/resource/Bob_Ogle', 'http://dbpedia.org/resource/Paul_Murry', '\"Bill de Blasio\"@en', 'http://dbpedia.org/resource/Ka-Hem', '\"National Gallery and Munch Museum\"@en', 'http://dbpedia.org/resource/Kentucky', 'http://dbpedia.org/resource/Missouri', 'http://dbpedia.org/resource/Wisconsin', 'http://dbpedia.org/resource/Indiana', 'http://dbpedia.org/resource/Iowa', 'http://dbpedia.org/resource/Mary_Todd_Lincoln', 'http://dbpedia.org/resource/C_(programming_language)', 'http://dbpedia.org/resource/GTK+', 'http://dbpedia.org/resource/Canada', 'http://dbpedia.org/resource/Czech_koruna', 'http://dbpedia.org/resource/Blizzard_Entertainment', 'http://dbpedia.org/resource/Karl_Albrecht', 'http://dbpedia.org/resource/Theo_Albrecht', '030', '2008-12-26', 'http://dbpedia.org/resource/Italian_language', 'http://dbpedia.org/resource/Julian_Assange', 'http://dbpedia.org/resource/F._Murray_Abraham', 'http://dbpedia.org/resource/Tom_Noonan', 'http://dbpedia.org/resource/Mercedes_Ruehl', 'http://dbpedia.org/resource/Frank_McRae', 'http://dbpedia.org/resource/Robert_Prosky', 'http://dbpedia.org/resource/Anthony_Quinn', 'http://dbpedia.org/resource/Arnold_Schwarzenegger', 'http://dbpedia.org/resource/Art_Carney', \"http://dbpedia.org/resource/Austin_O'Brien\", 'http://dbpedia.org/resource/Charles_Dance', 'http://dbpedia.org/resource/Comcast', 'http://dbpedia.org/resource/Universal_Pictures', 'http://dbpedia.org/resource/NBCUniversal', 'http://dbpedia.org/resource/Montpelier,_Idaho']\n"
          ]
        }
      ]
    },
    {
      "cell_type": "markdown",
      "metadata": {
        "id": "Gltlm49-WO7c"
      },
      "source": [
        "Preprocess permet de tokeniser une phrase"
      ]
    },
    {
      "cell_type": "code",
      "metadata": {
        "colab": {
          "base_uri": "https://localhost:8080/"
        },
        "id": "V_QcexKqOKxK",
        "outputId": "480e85a2-37df-4f3c-aaf6-fdef38f320eb"
      },
      "source": [
        "def preprocess(sent):\n",
        "    sent = sent.lower()\n",
        "    sent = nltk.word_tokenize(sent)\n",
        "    sent = nltk.pos_tag(sent)\n",
        "    return sent\n",
        "\n",
        "\n",
        "preprocess(\"Give me the homepage of Forbes.\")\n"
      ],
      "execution_count": null,
      "outputs": [
        {
          "output_type": "execute_result",
          "data": {
            "text/plain": [
              "[('give', 'VB'),\n",
              " ('me', 'PRP'),\n",
              " ('the', 'DT'),\n",
              " ('homepage', 'NN'),\n",
              " ('of', 'IN'),\n",
              " ('forbes', 'NNS'),\n",
              " ('.', '.')]"
            ]
          },
          "metadata": {},
          "execution_count": 59
        }
      ]
    },
    {
      "cell_type": "markdown",
      "metadata": {
        "id": "76BwrX9KWBbu"
      },
      "source": [
        "A l'aide d'un text tokenisé, remove_stop_word va permettre de preparer la question en y enlevant les stop words car cela n'importe pas dans le traitement ensuite."
      ]
    },
    {
      "cell_type": "code",
      "metadata": {
        "id": "PuLozgu0SigN"
      },
      "source": [
        "def remove_stop_word(tokenize_text):\n",
        "    stop_words = stopwords.words('english')\n",
        "    stop_words.append('?')\n",
        "    stop_words.append('.')\n",
        "    filtered_sentence = [w for w in tokenize_text if not w in stop_words]\n",
        "    return filtered_sentence\n",
        "\n"
      ],
      "execution_count": null,
      "outputs": []
    },
    {
      "cell_type": "code",
      "metadata": {
        "id": "TjGGf_QUVwEb"
      },
      "source": [
        ""
      ],
      "execution_count": null,
      "outputs": []
    },
    {
      "cell_type": "markdown",
      "metadata": {
        "id": "P2P1sU7UVq0i"
      },
      "source": [
        "la fonction get_named_entity permet de recuperer l'entite de la question:\n",
        "si on ne trouve pas, on prend les noms en majuscule qui sont present dans la phrase."
      ]
    },
    {
      "cell_type": "code",
      "metadata": {
        "id": "epukFCK_b6ER",
        "colab": {
          "base_uri": "https://localhost:8080/"
        },
        "outputId": "49f03034-9c07-44cd-e15a-32e51aaaf35a"
      },
      "source": [
        "\n",
        "def get_named_entity(text):\n",
        "  nlp = en_core_web_sm.load()\n",
        "  text = text.replace('?','')\n",
        "  text = text.replace('.','')\n",
        "  doc = nlp(text)\n",
        "  \n",
        "  named_entity = []\n",
        "\n",
        "  for ent in doc.ents:\n",
        "      ne = ent.text\n",
        "      ne = ne.replace('the ', '')\n",
        "      ne = ne.replace('The ', '')\n",
        "      named_entity.append(ne)\n",
        "\n",
        "  if(named_entity == []):\n",
        "    sp = text.split()\n",
        "    res = \"\"\n",
        "    for i in range(len(sp)):\n",
        "      if(i==0):\n",
        "        pass\n",
        "      elif sp[i][0].isupper():\n",
        "        named_entity.append(sp[i])\n",
        "    for i in range(len(named_entity)):\n",
        "      if(i == 0):\n",
        "        res =  named_entity[i]\n",
        "      else: \n",
        "        res = res + \" \"+ named_entity[i]\n",
        "    return [res]\n",
        "\n",
        "\n",
        "  return named_entity\n",
        "\n",
        "\n",
        "print(get_named_entity(\"Give me the homepage of Forbes?\"))\n",
        "\n",
        "def switch_question_type(question):#permet de savoir le type de question\n",
        "  questionL = question.lower()\n",
        "\n",
        "  res = ''\n",
        "  nn = []\n",
        "  \n",
        "  for i in preprocess(questionL):\n",
        "    if(i[1][0] == 'W'):\n",
        "      res =  i[0]\n",
        "    elif(i[1] == 'NN' or i[1] == 'NNS'):\n",
        "      nn.append(i[0])\n",
        "\n",
        "  dico = {  # le dico qui permet de connaitre le type de question\n",
        "        \"what\": [\"place\", \"Organisation\"],\n",
        "        \"where\": [\"Place\"],\n",
        "        \"why\": [\"Resource\"],# Prendre le NP qui vient après\n",
        "        \"who\": [\"Person\", \"Organisation\"],\n",
        "        \"whose\": [\"Resource\"],# Prendre le NP qui vient après\n",
        "        \"when\": [\"date\"],\n",
        "        \"how\":[\"Resource\"],\n",
        "        \"in\": [\"Place\"],\n",
        "        \"which\": [\"Resource\"]  # Prendre le NP qui vient après\n",
        "    }\n",
        "  \n",
        "\n",
        "  if(dico.get(res, [\"\"]) == [\"\"]):\n",
        "    return [\"Resource\"]\n",
        "  else: \n",
        "     return dico.get(res, [\"\"])\n",
        "\n",
        "switch_question_type(\"Give me the homepage of Forbes\")\n"
      ],
      "execution_count": null,
      "outputs": [
        {
          "output_type": "stream",
          "name": "stdout",
          "text": [
            "['Forbes']\n"
          ]
        },
        {
          "output_type": "execute_result",
          "data": {
            "text/plain": [
              "['Resource']"
            ]
          },
          "metadata": {},
          "execution_count": 61
        }
      ]
    },
    {
      "cell_type": "code",
      "metadata": {
        "colab": {
          "base_uri": "https://localhost:8080/"
        },
        "id": "cI0v5nLf4bbr",
        "outputId": "a98b43a7-cd01-4852-9db5-24c04da2667d"
      },
      "source": [
        "nltk.download('maxent_ne_chunker')\n",
        "nltk.download('words')"
      ],
      "execution_count": null,
      "outputs": [
        {
          "output_type": "stream",
          "name": "stdout",
          "text": [
            "[nltk_data] Downloading package maxent_ne_chunker to\n",
            "[nltk_data]     /root/nltk_data...\n",
            "[nltk_data]   Package maxent_ne_chunker is already up-to-date!\n",
            "[nltk_data] Downloading package words to /root/nltk_data...\n",
            "[nltk_data]   Package words is already up-to-date!\n"
          ]
        },
        {
          "output_type": "execute_result",
          "data": {
            "text/plain": [
              "True"
            ]
          },
          "metadata": {},
          "execution_count": 62
        }
      ]
    },
    {
      "cell_type": "markdown",
      "metadata": {
        "id": "F3OqsObyVIMT"
      },
      "source": [
        "Subject est la fonction qui me permet de recuperer les sujets de la question, les mots clé uniquement mais sans l'entité de la question."
      ]
    },
    {
      "cell_type": "code",
      "metadata": {
        "colab": {
          "base_uri": "https://localhost:8080/"
        },
        "id": "ppjjI2SFYMlC",
        "outputId": "6dbbe582-6dce-49d3-9551-f7cfacb8378f"
      },
      "source": [
        "def subject(question,entite):\n",
        "  \n",
        "  ex = nltk.word_tokenize(question)\n",
        "  remove_stop_word(ex)\n",
        "  res = remove_stop_word(ex)  #on retire les stop word\n",
        "  #print(res)\n",
        "  for i in remove_stop_word(ex): #on parcours afin de retirer l'entite\n",
        "    if(len(entite)>=1):\n",
        "      \n",
        "      for j in entite:\n",
        "      \n",
        "        if i == j:\n",
        "          res.remove(j)\n",
        "        if(\" \" in j):\n",
        "          \n",
        "          for y in j.split():\n",
        "             if i == y:\n",
        "               res.remove(y)\n",
        "           \n",
        "        \n",
        "    \n",
        "\n",
        "  return res[1:]\n",
        "\n",
        "subject(\"Give me the homepage of Forbes.\",get_named_entity(\"Give me the homepage of Forbes.\"))"
      ],
      "execution_count": null,
      "outputs": [
        {
          "output_type": "execute_result",
          "data": {
            "text/plain": [
              "['homepage']"
            ]
          },
          "metadata": {},
          "execution_count": 63
        }
      ]
    },
    {
      "cell_type": "markdown",
      "metadata": {
        "id": "RsWrdZxCXcEN"
      },
      "source": [
        "sparqlRequest est la fonction qui permet de creer la requete sparql en ayant en parametre l'entite et le sujet concerné\n"
      ]
    },
    {
      "cell_type": "code",
      "metadata": {
        "id": "0XIBaeCIM8Ei"
      },
      "source": [
        "def sparqlRequest(entite,data): # entite est l'entite de la question et data correspond au mot cle qui l'accompagne\n",
        "  \n",
        "  sparql = SPARQLWrapper(\"http://dbpedia.org/sparql\")\n",
        "  listRes = []\n",
        "  a = \"\"\"\n",
        "  PREFIX dbo: <http://dbpedia.org/ontology/>\n",
        "  PREFIX res: <http://dbpedia.org/resource/>\n",
        "  SELECT DISTINCT ?uri WHERE {\n",
        "  res:\"\"\"+ entite +\"\"\" \"\"\"+data+\"\"\" ?uri .}\"\"\"\n",
        "  \n",
        "  sparql.setQuery(a)\n",
        "  sparql.setReturnFormat(JSON)\n",
        "  qres = sparql.query().convert()\n",
        "  try :\n",
        "    if(len(qres[\"results\"][\"bindings\"]) is not 0):  #je parcours l'arbre xml pour ne recuperer que les reponses\n",
        "      for i in qres[\"results\"][\"bindings\"]:\n",
        "        \n",
        "        listRes.append(i[\"uri\"]['value'])\n",
        "      return listRes\n",
        "    else:\n",
        "      return []\n",
        "    \n",
        "      \n",
        "  except :\n",
        "     print(\"UH OH ERROR\")\n",
        "     return -1\n"
      ],
      "execution_count": null,
      "outputs": []
    },
    {
      "cell_type": "markdown",
      "metadata": {
        "id": "n0lAo7QBUjAJ"
      },
      "source": [
        "ouverture du fichier en mode lecture. \n",
        "Je fais un copy du contenu mais sans les 4 premiers caracteres afin de ne pas recuperer le dbo: ou le dbp: a chaque debut de mot."
      ]
    },
    {
      "cell_type": "code",
      "metadata": {
        "id": "m2zRKtYI7tIN"
      },
      "source": [
        "f = open(\"/content/relations.txt\", \"r\")\n",
        "data = f.read().splitlines()\n",
        "rawD = data.copy()\n",
        "\n",
        "copyWithout = data\n",
        "for i in range(len(data)):\n",
        "  copyWithout[i] = data[i][4:]\n"
      ],
      "execution_count": null,
      "outputs": []
    },
    {
      "cell_type": "markdown",
      "metadata": {
        "id": "qpg4vsVNSKph"
      },
      "source": [
        "la fonction synonyme me permet avec la liste de mot qui correspond au mot sans les entites et sans les stop word de voir s'il y a une similarite entre les mots dans la liste et les mots dans le fichier relation"
      ]
    },
    {
      "cell_type": "code",
      "metadata": {
        "id": "bpk1N24V57jb",
        "colab": {
          "base_uri": "https://localhost:8080/"
        },
        "outputId": "aeb45089-d365-47cb-bf22-e52ab1cac506"
      },
      "source": [
        "def synonym(listMot):\n",
        "  max=0\n",
        "  motMax=\"\"\n",
        "  tokenMax=\"\"\n",
        "  relationss = copyWithout\n",
        "  for token in listMot:\n",
        "    try:\n",
        "      synset1 = wn.synset(token+'.n.01')\n",
        "      for mot in range(len(relationss)):\n",
        "        try:\n",
        "          synset2 = wn.synset(relationss[mot]+'.n.01')\n",
        "          if(wn.path_similarity(synset1, synset2) >0.125 and wn.path_similarity(synset1, synset2) >max):\n",
        "            max= wn.path_similarity(synset1, synset2)\n",
        "            motMax= copyWithout[mot]\n",
        "            indexMax = mot\n",
        "            tokenMax=token\n",
        "        except (Exception):\n",
        "          pass\n",
        "    except (Exception):\n",
        "      pass\n",
        "     \n",
        "  if motMax ==\"\":\n",
        "    return False\n",
        "  \n",
        "  return indexMax\n",
        "\n",
        "\n",
        "synonym(\"created\")"
      ],
      "execution_count": null,
      "outputs": [
        {
          "output_type": "execute_result",
          "data": {
            "text/plain": [
              "False"
            ]
          },
          "metadata": {},
          "execution_count": 66
        }
      ]
    },
    {
      "cell_type": "code",
      "metadata": {
        "colab": {
          "base_uri": "https://localhost:8080/"
        },
        "id": "fr4ytH5tvKM0",
        "outputId": "ec004cca-bb3d-4f32-fb77-dc81966fd958"
      },
      "source": [
        "pip install fuzzywuzzy"
      ],
      "execution_count": null,
      "outputs": [
        {
          "output_type": "stream",
          "name": "stdout",
          "text": [
            "Requirement already satisfied: fuzzywuzzy in /usr/local/lib/python3.7/dist-packages (0.18.0)\n"
          ]
        }
      ]
    },
    {
      "cell_type": "markdown",
      "metadata": {
        "id": "3rK4DJD9RvP1"
      },
      "source": [
        "la fonction lemmer utilise la librairie fuzzy qui va nous aider a avoir un valeur entre 1-100. plus la valeur est proche de 100, plus les 2 mots sont proches. Jai choisi comme limite la valeur 50."
      ]
    },
    {
      "cell_type": "code",
      "metadata": {
        "id": "BcfFaO2qAiGP",
        "colab": {
          "base_uri": "https://localhost:8080/"
        },
        "outputId": "8711cbda-b111-437f-cb14-2dfe9b813508"
      },
      "source": [
        "from fuzzywuzzy import fuzz\n",
        "\n",
        "def lemmer(a,b):\n",
        "  similarity = fuzz.ratio(a,b)\n",
        "  return similarity>50\n",
        "\n",
        "lemmer('creator',\"created\")\n"
      ],
      "execution_count": null,
      "outputs": [
        {
          "output_type": "execute_result",
          "data": {
            "text/plain": [
              "True"
            ]
          },
          "metadata": {},
          "execution_count": 68
        }
      ]
    },
    {
      "cell_type": "markdown",
      "metadata": {
        "id": "qlhHeHaC9ecM"
      },
      "source": [
        "la fonction wordInWord permet de savoir si un mot est compris dans un autre."
      ]
    },
    {
      "cell_type": "code",
      "metadata": {
        "colab": {
          "base_uri": "https://localhost:8080/"
        },
        "id": "nLA0oKLAxOiQ",
        "outputId": "181637e7-22df-4edc-9b70-f7e84cffeca6"
      },
      "source": [
        "def wordInWord(w1,w2):\n",
        "  w1 = w1.lower()\n",
        "  w2= w2.lower()\n",
        "  if(len(w1)>len(w2)):\n",
        "    tmp = w1\n",
        "    w1 = w2\n",
        "    w2 = tmp\n",
        "  if( w2.find(w1) != -1):\n",
        "    return True\n",
        "  else:\n",
        "    return lemmer(w1,w2)\n",
        "\n",
        "\n",
        "\n",
        "wordInWord(\"source2Location\",\"location\")"
      ],
      "execution_count": null,
      "outputs": [
        {
          "output_type": "execute_result",
          "data": {
            "text/plain": [
              "True"
            ]
          },
          "metadata": {},
          "execution_count": 69
        }
      ]
    },
    {
      "cell_type": "code",
      "metadata": {
        "id": "6OxeswMHpgFw"
      },
      "source": [
        ""
      ],
      "execution_count": null,
      "outputs": []
    },
    {
      "cell_type": "markdown",
      "metadata": {
        "id": "UCsgy1Zz2hq2"
      },
      "source": [
        "La methode responseLookupParser me permet de parcourir l'arbre xml recu en faisant la requete lookup dbpedia.\n",
        "\n"
      ]
    },
    {
      "cell_type": "code",
      "metadata": {
        "id": "5bM9H91ZOpFZ"
      },
      "source": [
        "import xml.etree.ElementTree as ET\n",
        "def responseLookupParser(res):\n",
        " \n",
        "  tree = ET.ElementTree(ET.fromstring(res))\n",
        " \n",
        "  root = tree.getroot()\n",
        "  uri = []\n",
        "  for child in root:\n",
        "    for data in child:\n",
        "        if data.tag == \"URI\":\n",
        "          uri.append(data.text)\n",
        "  return uri\n",
        "        \n",
        "        \n"
      ],
      "execution_count": null,
      "outputs": []
    },
    {
      "cell_type": "markdown",
      "metadata": {
        "id": "q6DecsuDRQKo"
      },
      "source": [
        "htmlParser est la fonction qui va recuperer les donnees qu'on recupere en faisant une requete get sur l'url dbpedia choisi. En parcourant les donnees et a l'aide d'un regex on essaye de recuperer la bonne reponse."
      ]
    },
    {
      "cell_type": "code",
      "metadata": {
        "id": "LYl3JW7xwuE5"
      },
      "source": [
        "def htmlParser(data,sujet ):  \n",
        "  print(sujet)\n",
        "  \n",
        "  res = []\n",
        "  alldata = data.splitlines()\n",
        "  \n",
        "  for j in alldata:\n",
        "    for i in j.split():\n",
        "      x = re.findall(r\"db[a-z]+:[A-z]*\"+sujet[0]+\"[A-z]*\", i)\n",
        "      if(x != []):\n",
        "        res.append(x)\n",
        "  return res"
      ],
      "execution_count": null,
      "outputs": []
    },
    {
      "cell_type": "code",
      "metadata": {
        "id": "5rpGi3oEc5Mj",
        "colab": {
          "base_uri": "https://localhost:8080/"
        },
        "outputId": "26c32301-529c-49bf-fbc2-93c0910403d4"
      },
      "source": [
        "def similarite(word1,word2,sujet=\"\"):\n",
        "    \n",
        "    if(len(word1)>len(word2)):\n",
        "      tmp = word1\n",
        "      word1 = word2\n",
        "      word2 = tmp\n",
        "    if(wordInWord(word1, word2)):\n",
        "      \n",
        "      return True\n",
        "    elif synonym(sujet):\n",
        "      \n",
        "      return rawD[synonym(sujet)]\n",
        "    \n",
        "    return lemmer(word1, word2)\n",
        "     \n",
        "similarite(\"source2Location\",\"location\")"
      ],
      "execution_count": null,
      "outputs": [
        {
          "output_type": "execute_result",
          "data": {
            "text/plain": [
              "True"
            ]
          },
          "metadata": {},
          "execution_count": 72
        }
      ]
    },
    {
      "cell_type": "code",
      "metadata": {
        "id": "j_QFbca9SmOx"
      },
      "source": [
        "from IPython.display import clear_output \n",
        "\n",
        "\n",
        "def makeLink(question):\n",
        "  \n",
        "  print(\"LA QUESTION = >>\",question)\n",
        "  entity = get_named_entity(question)\n",
        "  resList = []\n",
        "  rwd = rawD\n",
        "  dboCorrect = []\n",
        "  s = subject(question,entity)\n",
        "  if(s == []):\n",
        "    s = switch_question_type(question)\n",
        "  print('Entite: ',entity)\n",
        "  print('Les sujets: ',s)\n",
        "\n",
        "  for i in s:\n",
        "    for j in range(len(copyWithout)):\n",
        "\n",
        "      if(similarite(copyWithout[j],i,s)):\n",
        "        if( type(similarite(copyWithout[j],i,s)) is str):\n",
        "          dboCorrect.append(similarite(copyWithout[j],i,s))\n",
        "          break\n",
        "        else:\n",
        "          dboCorrect.append(rwd[j])\n",
        "          \n",
        "    \n",
        "    dboCorrect = list(set(dboCorrect))\n",
        "    if(len(dboCorrect)>1):\n",
        "      for  spark in dboCorrect:\n",
        "        for p in entity:\n",
        "          \n",
        "          a = sparqlRequest(p.replace(\" \", \"_\"),spark)\n",
        "          if( a != []):\n",
        "            if(len(a)>11):\n",
        "              resList.append(a[:10])\n",
        "            else:\n",
        "              resList.append(a)\n",
        "              break\n",
        "      \n",
        "\n",
        "  \n",
        "  \n",
        "  if(resList == []):\n",
        "    best = []\n",
        "    typo = switch_question_type(question)\n",
        "   \n",
        "    \n",
        "    for i in entity:\n",
        "       \n",
        "       #lookup=\"https://lookup.dbpedia.org/api/search?maxResults=10&query=\"+i.replace(\" \", \"%20\")\n",
        "       lookup =  \"http://lookup.dbpedia.org/api/search/KeywordSearch?QueryClass={0}&QueryString={1}\".format(typo[0], i.replace(\" \", \"%20\"))\n",
        "       print(lookup)\n",
        "       try:\n",
        "         response = requests.get(lookup)\n",
        "         best.append(getBestDbo(responseLookupParser(response.text),i))\n",
        "         print(best)\n",
        "         for i in best:\n",
        "          res2 = requests.get(i)\n",
        "      \n",
        "         if(len(dboCorrect)==0):\n",
        "          return []\n",
        "    \n",
        "    \n",
        "    \n",
        "         t = [y for x in [typo, dboCorrect] for y in x]\n",
        "\n",
        "    \n",
        "         dboLookup = htmlParser(res2.text,t)\n",
        "    \n",
        "         for i in s:\n",
        "            dboLookup.append([i])\n",
        "    \n",
        "    \n",
        "         goodDbo = []     \n",
        "         for i in dboLookup:\n",
        "      \n",
        "             for j in range(len(copyWithout)):\n",
        "        \n",
        "                if(wordInWord(copyWithout[j],i[0])):\n",
        "                    goodDbo.append(rawD[j])\n",
        "    \n",
        "         a = []\n",
        "         for i in goodDbo:\n",
        "            a = sparqlRequest(lookupEntity(best),i)\n",
        "            if( a != []):\n",
        "                resList.append(a)\n",
        "            \n",
        "         return resList\n",
        "       except (requests.exceptions.SSLError):\n",
        "            print('SSLCertVerificationError')\n",
        "            return -1\n",
        "  else:\n",
        "      return resList\n",
        "\n",
        "   \n",
        "     \n",
        "    \n",
        "    "
      ],
      "execution_count": null,
      "outputs": []
    },
    {
      "cell_type": "markdown",
      "metadata": {
        "id": "fs-lQ4k_P5pH"
      },
      "source": [
        "getBestDbo() permet de choisir parmis les different url recuperer grace a lookup le meilleur url dans notre cas, en comparant l'entite de l'url et l'entite de la question.\n"
      ]
    },
    {
      "cell_type": "code",
      "metadata": {
        "id": "NmLaAgV5IMaD"
      },
      "source": [
        "def getBestDbo(listo,entite):  #listo est la liste des url et entite est l'entite de la question\n",
        "  \n",
        "  for i in listo:\n",
        "    if(lookupEntity(i) == entite[0]):\n",
        "      \n",
        "      return i\n",
        "  return listo[0]\n"
      ],
      "execution_count": null,
      "outputs": []
    },
    {
      "cell_type": "markdown",
      "metadata": {
        "id": "BQhpzidmYPZ4"
      },
      "source": [
        "lookupEntity() permet de recuperer l'entite d'une url de type:http://dbpedia.org/resource/Canada en la parsant\n"
      ]
    },
    {
      "cell_type": "code",
      "metadata": {
        "colab": {
          "base_uri": "https://localhost:8080/",
          "height": 35
        },
        "id": "UtawIGzDvfFY",
        "outputId": "4c379c29-3cdc-4b26-f2b8-81afb4174693"
      },
      "source": [
        "def lookupEntity(data):\n",
        "  s = data[::-1]\n",
        "  res = []\n",
        "  for i in s:\n",
        "    if i != '/':\n",
        "      res.append(i)\n",
        "    else: \n",
        "      fin = ''.join(res)\n",
        "      return fin[::-1]\n",
        "lookupEntity('http://dbpedia.org/resource/Canada')\n",
        "\n"
      ],
      "execution_count": null,
      "outputs": [
        {
          "output_type": "execute_result",
          "data": {
            "application/vnd.google.colaboratory.intrinsic+json": {
              "type": "string"
            },
            "text/plain": [
              "'Canada'"
            ]
          },
          "metadata": {},
          "execution_count": 75
        }
      ]
    },
    {
      "cell_type": "markdown",
      "metadata": {
        "id": "vLmOIky_PTZj"
      },
      "source": [
        "Si vous souhaitez generer une question aleatoire et tester le programme"
      ]
    },
    {
      "cell_type": "code",
      "metadata": {
        "id": "F6bXJU-xU_cQ",
        "colab": {
          "base_uri": "https://localhost:8080/"
        },
        "outputId": "daa4e32a-5cd4-4c78-fe3c-abb4114a8b58"
      },
      "source": [
        "questionTest = questions[random.randint(0,len(questions)-1)]\n",
        "print(questionTest)\n",
        "makeLink(questionTest)\n"
      ],
      "execution_count": null,
      "outputs": [
        {
          "output_type": "stream",
          "name": "stdout",
          "text": [
            "Which states border Illinois?\n",
            "LA QUESTION = >> Which states border Illinois?\n",
            "Entite:  ['Illinois']\n",
            "Les sujets:  ['states', 'border']\n",
            "http://lookup.dbpedia.org/api/search/KeywordSearch?QueryClass=Resource&QueryString=Illinois\n",
            "SSLCertVerificationError\n"
          ]
        },
        {
          "output_type": "execute_result",
          "data": {
            "text/plain": [
              "-1"
            ]
          },
          "metadata": {},
          "execution_count": 76
        }
      ]
    },
    {
      "cell_type": "markdown",
      "metadata": {
        "id": "lIe5RKXwPFGx"
      },
      "source": [
        "Tester() est la fonction qui va tester la reponse generee par mon programme et la vrai reponse"
      ]
    },
    {
      "cell_type": "code",
      "metadata": {
        "id": "TmtmgtJU8ODA"
      },
      "source": [
        "def tester(i):\n",
        "  print('QUESTION: ',questionsTest[i])\n",
        "  print('REPONSE ATTENDU',answersTest[i])\n",
        "\n",
        "  a = makeLink(questionsTest[i])\n",
        "  print(a)\n",
        "  if(a == -1): \n",
        "    return -1\n",
        "  \n",
        "  if(a != []):\n",
        "    for i in answersTest[i]:\n",
        "      \n",
        "      if(lookupEntity(i) == lookupEntity(a[0][0])):\n",
        "        print(\"BRAVO\")\n",
        "        return True\n",
        "  \n",
        "  print(\"Mince cest ratee\")\n",
        "  return False\n",
        "\n"
      ],
      "execution_count": null,
      "outputs": []
    },
    {
      "cell_type": "code",
      "metadata": {
        "id": "RINeooi5OL-7",
        "colab": {
          "base_uri": "https://localhost:8080/"
        },
        "outputId": "67b2c805-b604-46d1-f7e3-ecb1b2a04af5"
      },
      "source": [
        "def final():\n",
        "  print(\"----------------------------------\\nRealisé par KAROUIA ALAEDINE MIAGE M2 IA\\n----------------------------------\\n\")\n",
        "  res = 0\n",
        "  cancel = 0\n",
        "  for i in range(len(questionsTest)):\n",
        "    if(tester(i) == -1):\n",
        "      print('cancel')\n",
        "      cancel += 1\n",
        "\n",
        "    if(tester(i) == True):\n",
        "      res +=1\n",
        "  \n",
        "  print(\"recall: {} %\".format((res/(len(answersTest) - cancel))*100)) #moyenne des reponse en enlevant quand le lookup fait une erreur\n",
        "  print(\"precision {} %\".format((res/len(answersTest))*100)) #moyenne des bonnes reponses\n",
        "  #le f globale\n",
        "  print(\"mesure F globale {} \".format((2* (res/len(answersTest) * (res/len(answersTest) - cancel ))/((res/len(answersTest) + (res/len(answersTest) - cancel )) *100))))\n",
        "final()\n"
      ],
      "execution_count": null,
      "outputs": [
        {
          "output_type": "stream",
          "name": "stdout",
          "text": [
            "----------------------------------\n",
            "Realisé par KAROUIA ALAEDINE MIAGE M2 IA\n",
            "----------------------------------\n",
            "\n",
            "QUESTION:  Which river does the Brooklyn Bridge cross?\n",
            "REPONSE ATTENDU ['http://dbpedia.org/resource/East_River']\n",
            "LA QUESTION = >> Which river does the Brooklyn Bridge cross?\n",
            "Entite:  ['Brooklyn Bridge']\n",
            "Les sujets:  ['river', 'cross']\n",
            "[['http://dbpedia.org/resource/East_River']]\n",
            "BRAVO\n",
            "QUESTION:  Which river does the Brooklyn Bridge cross?\n",
            "REPONSE ATTENDU ['http://dbpedia.org/resource/East_River']\n",
            "LA QUESTION = >> Which river does the Brooklyn Bridge cross?\n",
            "Entite:  ['Brooklyn Bridge']\n",
            "Les sujets:  ['river', 'cross']\n",
            "[['http://dbpedia.org/resource/East_River']]\n",
            "BRAVO\n",
            "QUESTION:  Who created Wikipedia?\n",
            "REPONSE ATTENDU ['http://dbpedia.org/resource/Jimmy_Wales', 'http://dbpedia.org/resource/Larry_Sanger']\n",
            "LA QUESTION = >> Who created Wikipedia?\n",
            "Entite:  ['Wikipedia']\n",
            "Les sujets:  ['created']\n",
            "[['2013-10-23', '2015-03-13', 'July 2021']]\n",
            "Mince cest ratee\n",
            "QUESTION:  Who created Wikipedia?\n",
            "REPONSE ATTENDU ['http://dbpedia.org/resource/Jimmy_Wales', 'http://dbpedia.org/resource/Larry_Sanger']\n",
            "LA QUESTION = >> Who created Wikipedia?\n",
            "Entite:  ['Wikipedia']\n",
            "Les sujets:  ['created']\n",
            "[['2013-10-23', '2015-03-13', 'July 2021']]\n",
            "Mince cest ratee\n",
            "QUESTION:  In which country does the Nile start?\n",
            "REPONSE ATTENDU ['http://dbpedia.org/resource/Ethiopia', 'http://dbpedia.org/resource/Ethiopia']\n",
            "LA QUESTION = >> In which country does the Nile start?\n",
            "Entite:  ['Nile']\n",
            "Les sujets:  ['country', 'start']\n",
            "http://lookup.dbpedia.org/api/search/KeywordSearch?QueryClass=Resource&QueryString=Nile\n",
            "SSLCertVerificationError\n",
            "-1\n",
            "cancel\n",
            "QUESTION:  In which country does the Nile start?\n",
            "REPONSE ATTENDU ['http://dbpedia.org/resource/Ethiopia', 'http://dbpedia.org/resource/Ethiopia']\n",
            "LA QUESTION = >> In which country does the Nile start?\n",
            "Entite:  ['Nile']\n",
            "Les sujets:  ['country', 'start']\n",
            "http://lookup.dbpedia.org/api/search/KeywordSearch?QueryClass=Resource&QueryString=Nile\n",
            "SSLCertVerificationError\n",
            "-1\n",
            "QUESTION:  What is the highest place of Karakoram?\n",
            "REPONSE ATTENDU ['http://dbpedia.org/resource/K2']\n",
            "LA QUESTION = >> What is the highest place of Karakoram?\n",
            "Entite:  ['Karakoram']\n",
            "Les sujets:  ['highest', 'place']\n",
            "http://lookup.dbpedia.org/api/search/KeywordSearch?QueryClass=place&QueryString=Karakoram\n",
            "SSLCertVerificationError\n",
            "-1\n",
            "cancel\n",
            "QUESTION:  What is the highest place of Karakoram?\n",
            "REPONSE ATTENDU ['http://dbpedia.org/resource/K2']\n",
            "LA QUESTION = >> What is the highest place of Karakoram?\n",
            "Entite:  ['Karakoram']\n",
            "Les sujets:  ['highest', 'place']\n",
            "http://lookup.dbpedia.org/api/search/KeywordSearch?QueryClass=place&QueryString=Karakoram\n",
            "SSLCertVerificationError\n",
            "-1\n",
            "QUESTION:  Who designed the Brooklyn Bridge?\n",
            "REPONSE ATTENDU ['http://dbpedia.org/resource/John_A._Roebling', 'http://dbpedia.org/resource/John_Augustus_Roebling']\n",
            "LA QUESTION = >> Who designed the Brooklyn Bridge?\n",
            "Entite:  ['Brooklyn Bridge']\n",
            "Les sujets:  ['designed']\n",
            "http://lookup.dbpedia.org/api/search/KeywordSearch?QueryClass=Person&QueryString=Brooklyn%20Bridge\n",
            "SSLCertVerificationError\n",
            "-1\n",
            "cancel\n",
            "QUESTION:  Who designed the Brooklyn Bridge?\n",
            "REPONSE ATTENDU ['http://dbpedia.org/resource/John_A._Roebling', 'http://dbpedia.org/resource/John_Augustus_Roebling']\n",
            "LA QUESTION = >> Who designed the Brooklyn Bridge?\n",
            "Entite:  ['Brooklyn Bridge']\n",
            "Les sujets:  ['designed']\n",
            "http://lookup.dbpedia.org/api/search/KeywordSearch?QueryClass=Person&QueryString=Brooklyn%20Bridge\n",
            "SSLCertVerificationError\n",
            "-1\n",
            "QUESTION:  Who created Goofy?\n",
            "REPONSE ATTENDU ['http://dbpedia.org/resource/Art_Babbitt']\n",
            "LA QUESTION = >> Who created Goofy?\n",
            "Entite:  ['Goofy']\n",
            "Les sujets:  ['created']\n",
            "[['http://dbpedia.org/resource/Paul_Murry', 'http://dbpedia.org/resource/The_Walt_Disney_Company', 'http://dbpedia.org/resource/Bob_Ogle']]\n",
            "Mince cest ratee\n",
            "QUESTION:  Who created Goofy?\n",
            "REPONSE ATTENDU ['http://dbpedia.org/resource/Art_Babbitt']\n",
            "LA QUESTION = >> Who created Goofy?\n",
            "Entite:  ['Goofy']\n",
            "Les sujets:  ['created']\n",
            "[['http://dbpedia.org/resource/Paul_Murry', 'http://dbpedia.org/resource/The_Walt_Disney_Company', 'http://dbpedia.org/resource/Bob_Ogle']]\n",
            "Mince cest ratee\n",
            "QUESTION:  Who is the mayor of New York City?\n",
            "REPONSE ATTENDU ['http://dbpedia.org/resource/Michael_Bloomberg']\n",
            "LA QUESTION = >> Who is the mayor of New York City?\n",
            "Entite:  ['New York City']\n",
            "Les sujets:  ['mayor']\n",
            "http://lookup.dbpedia.org/api/search/KeywordSearch?QueryClass=Person&QueryString=New%20York%20City\n",
            "SSLCertVerificationError\n",
            "-1\n",
            "cancel\n",
            "QUESTION:  Who is the mayor of New York City?\n",
            "REPONSE ATTENDU ['http://dbpedia.org/resource/Michael_Bloomberg']\n",
            "LA QUESTION = >> Who is the mayor of New York City?\n",
            "Entite:  ['New York City']\n",
            "Les sujets:  ['mayor']\n",
            "http://lookup.dbpedia.org/api/search/KeywordSearch?QueryClass=Person&QueryString=New%20York%20City\n",
            "SSLCertVerificationError\n",
            "-1\n",
            "QUESTION:  Through which countries does the Yenisei river flow?\n",
            "REPONSE ATTENDU ['http://dbpedia.org/resource/Mongolia', 'http://dbpedia.org/resource/Russia']\n",
            "LA QUESTION = >> Through which countries does the Yenisei river flow?\n",
            "Entite:  ['Yenisei']\n",
            "Les sujets:  ['countries', 'river', 'flow']\n",
            "http://lookup.dbpedia.org/api/search/KeywordSearch?QueryClass=Resource&QueryString=Yenisei\n",
            "SSLCertVerificationError\n",
            "-1\n",
            "cancel\n",
            "QUESTION:  Through which countries does the Yenisei river flow?\n",
            "REPONSE ATTENDU ['http://dbpedia.org/resource/Mongolia', 'http://dbpedia.org/resource/Russia']\n",
            "LA QUESTION = >> Through which countries does the Yenisei river flow?\n",
            "Entite:  ['Yenisei']\n",
            "Les sujets:  ['countries', 'river', 'flow']\n",
            "http://lookup.dbpedia.org/api/search/KeywordSearch?QueryClass=Resource&QueryString=Yenisei\n",
            "SSLCertVerificationError\n",
            "-1\n",
            "QUESTION:  Which museum exhibits The Scream by Munch?\n",
            "REPONSE ATTENDU ['http://dbpedia.org/resource/National_Gallery_of_Norway', 'http://dbpedia.org/resource/National_Gallery,_Oslo']\n",
            "LA QUESTION = >> Which museum exhibits The Scream by Munch?\n",
            "Entite:  ['The Scream Munch']\n",
            "Les sujets:  ['museum', 'exhibits']\n",
            "http://lookup.dbpedia.org/api/search/KeywordSearch?QueryClass=Resource&QueryString=The%20Scream%20Munch\n",
            "SSLCertVerificationError\n",
            "-1\n",
            "cancel\n",
            "QUESTION:  Which museum exhibits The Scream by Munch?\n",
            "REPONSE ATTENDU ['http://dbpedia.org/resource/National_Gallery_of_Norway', 'http://dbpedia.org/resource/National_Gallery,_Oslo']\n",
            "LA QUESTION = >> Which museum exhibits The Scream by Munch?\n",
            "Entite:  ['The Scream Munch']\n",
            "Les sujets:  ['museum', 'exhibits']\n",
            "http://lookup.dbpedia.org/api/search/KeywordSearch?QueryClass=Resource&QueryString=The%20Scream%20Munch\n",
            "SSLCertVerificationError\n",
            "-1\n",
            "QUESTION:  Which states border Illinois?\n",
            "REPONSE ATTENDU ['http://dbpedia.org/resource/Kentucky', 'http://dbpedia.org/resource/Missouri', 'http://dbpedia.org/resource/Wisconsin', 'http://dbpedia.org/resource/Indiana', 'http://dbpedia.org/resource/Iowa']\n",
            "LA QUESTION = >> Which states border Illinois?\n",
            "Entite:  ['Illinois']\n",
            "Les sujets:  ['states', 'border']\n",
            "http://lookup.dbpedia.org/api/search/KeywordSearch?QueryClass=Resource&QueryString=Illinois\n",
            "SSLCertVerificationError\n",
            "-1\n",
            "cancel\n",
            "QUESTION:  Which states border Illinois?\n",
            "REPONSE ATTENDU ['http://dbpedia.org/resource/Kentucky', 'http://dbpedia.org/resource/Missouri', 'http://dbpedia.org/resource/Wisconsin', 'http://dbpedia.org/resource/Indiana', 'http://dbpedia.org/resource/Iowa']\n",
            "LA QUESTION = >> Which states border Illinois?\n",
            "Entite:  ['Illinois']\n",
            "Les sujets:  ['states', 'border']\n",
            "http://lookup.dbpedia.org/api/search/KeywordSearch?QueryClass=Resource&QueryString=Illinois\n",
            "SSLCertVerificationError\n",
            "-1\n",
            "QUESTION:  Who was the wife of US president Lincoln?\n",
            "REPONSE ATTENDU ['http://dbpedia.org/resource/Mary_Todd_Lincoln']\n",
            "LA QUESTION = >> Who was the wife of US president Lincoln?\n",
            "Entite:  ['US', 'Lincoln']\n",
            "Les sujets:  ['wife', 'president']\n",
            "http://lookup.dbpedia.org/api/search/KeywordSearch?QueryClass=Person&QueryString=US\n",
            "SSLCertVerificationError\n",
            "-1\n",
            "cancel\n",
            "QUESTION:  Who was the wife of US president Lincoln?\n",
            "REPONSE ATTENDU ['http://dbpedia.org/resource/Mary_Todd_Lincoln']\n",
            "LA QUESTION = >> Who was the wife of US president Lincoln?\n",
            "Entite:  ['US', 'Lincoln']\n",
            "Les sujets:  ['wife', 'president']\n",
            "http://lookup.dbpedia.org/api/search/KeywordSearch?QueryClass=Person&QueryString=US\n",
            "SSLCertVerificationError\n",
            "-1\n",
            "QUESTION:  In which programming language is GIMP written?\n",
            "REPONSE ATTENDU ['http://dbpedia.org/resource/C_(programming_language)', 'http://dbpedia.org/resource/GTK+']\n",
            "LA QUESTION = >> In which programming language is GIMP written?\n",
            "Entite:  ['GIMP']\n",
            "Les sujets:  ['programming', 'language', 'written']\n",
            "http://lookup.dbpedia.org/api/search/KeywordSearch?QueryClass=Resource&QueryString=GIMP\n",
            "SSLCertVerificationError\n",
            "-1\n",
            "cancel\n",
            "QUESTION:  In which programming language is GIMP written?\n",
            "REPONSE ATTENDU ['http://dbpedia.org/resource/C_(programming_language)', 'http://dbpedia.org/resource/GTK+']\n",
            "LA QUESTION = >> In which programming language is GIMP written?\n",
            "Entite:  ['GIMP']\n",
            "Les sujets:  ['programming', 'language', 'written']\n",
            "http://lookup.dbpedia.org/api/search/KeywordSearch?QueryClass=Resource&QueryString=GIMP\n",
            "SSLCertVerificationError\n",
            "-1\n",
            "QUESTION:  In which country is the Limerick Lake?\n",
            "REPONSE ATTENDU ['http://dbpedia.org/resource/Canada']\n",
            "LA QUESTION = >> In which country is the Limerick Lake?\n",
            "Entite:  ['Limerick Lake']\n",
            "Les sujets:  ['country']\n",
            "http://lookup.dbpedia.org/api/search/KeywordSearch?QueryClass=Resource&QueryString=Limerick%20Lake\n",
            "SSLCertVerificationError\n",
            "-1\n",
            "cancel\n",
            "QUESTION:  In which country is the Limerick Lake?\n",
            "REPONSE ATTENDU ['http://dbpedia.org/resource/Canada']\n",
            "LA QUESTION = >> In which country is the Limerick Lake?\n",
            "Entite:  ['Limerick Lake']\n",
            "Les sujets:  ['country']\n",
            "http://lookup.dbpedia.org/api/search/KeywordSearch?QueryClass=Resource&QueryString=Limerick%20Lake\n",
            "SSLCertVerificationError\n",
            "-1\n",
            "QUESTION:  What are the official languages of the Philippines?\n",
            "REPONSE ATTENDU ['http://dbpedia.org/resource/Filipino_language']\n",
            "LA QUESTION = >> What are the official languages of the Philippines?\n",
            "Entite:  ['Philippines']\n",
            "Les sujets:  ['official', 'languages']\n",
            "http://lookup.dbpedia.org/api/search/KeywordSearch?QueryClass=place&QueryString=Philippines\n",
            "SSLCertVerificationError\n",
            "-1\n",
            "cancel\n",
            "QUESTION:  What are the official languages of the Philippines?\n",
            "REPONSE ATTENDU ['http://dbpedia.org/resource/Filipino_language']\n",
            "LA QUESTION = >> What are the official languages of the Philippines?\n",
            "Entite:  ['Philippines']\n",
            "Les sujets:  ['official', 'languages']\n",
            "http://lookup.dbpedia.org/api/search/KeywordSearch?QueryClass=place&QueryString=Philippines\n",
            "SSLCertVerificationError\n",
            "-1\n",
            "QUESTION:  Who owns Aldi?\n",
            "REPONSE ATTENDU ['http://dbpedia.org/resource/Karl_Albrecht', 'http://dbpedia.org/resource/Theo_Albrecht']\n",
            "LA QUESTION = >> Who owns Aldi?\n",
            "Entite:  ['Aldi']\n",
            "Les sujets:  ['owns']\n",
            "http://lookup.dbpedia.org/api/search/KeywordSearch?QueryClass=Person&QueryString=Aldi\n",
            "SSLCertVerificationError\n",
            "-1\n",
            "cancel\n",
            "QUESTION:  Who owns Aldi?\n",
            "REPONSE ATTENDU ['http://dbpedia.org/resource/Karl_Albrecht', 'http://dbpedia.org/resource/Theo_Albrecht']\n",
            "LA QUESTION = >> Who owns Aldi?\n",
            "Entite:  ['Aldi']\n",
            "Les sujets:  ['owns']\n",
            "http://lookup.dbpedia.org/api/search/KeywordSearch?QueryClass=Person&QueryString=Aldi\n",
            "SSLCertVerificationError\n",
            "-1\n",
            "QUESTION:  What is the area code of Berlin?\n",
            "REPONSE ATTENDU ['030']\n",
            "LA QUESTION = >> What is the area code of Berlin?\n",
            "Entite:  ['Berlin']\n",
            "Les sujets:  ['area', 'code']\n",
            "http://lookup.dbpedia.org/api/search/KeywordSearch?QueryClass=place&QueryString=Berlin\n",
            "SSLCertVerificationError\n",
            "-1\n",
            "cancel\n",
            "QUESTION:  What is the area code of Berlin?\n",
            "REPONSE ATTENDU ['030']\n",
            "LA QUESTION = >> What is the area code of Berlin?\n",
            "Entite:  ['Berlin']\n",
            "Les sujets:  ['area', 'code']\n",
            "http://lookup.dbpedia.org/api/search/KeywordSearch?QueryClass=place&QueryString=Berlin\n",
            "SSLCertVerificationError\n",
            "-1\n",
            "QUESTION:  When was the Battle of Gettysburg?\n",
            "REPONSE ATTENDU ['1863-07-03']\n",
            "LA QUESTION = >> When was the Battle of Gettysburg?\n",
            "Entite:  ['Battle Gettysburg']\n",
            "Les sujets:  ['date']\n",
            "http://lookup.dbpedia.org/api/search/KeywordSearch?QueryClass=date&QueryString=Battle%20Gettysburg\n",
            "SSLCertVerificationError\n",
            "-1\n",
            "cancel\n",
            "QUESTION:  When was the Battle of Gettysburg?\n",
            "REPONSE ATTENDU ['1863-07-03']\n",
            "LA QUESTION = >> When was the Battle of Gettysburg?\n",
            "Entite:  ['Battle Gettysburg']\n",
            "Les sujets:  ['date']\n",
            "http://lookup.dbpedia.org/api/search/KeywordSearch?QueryClass=date&QueryString=Battle%20Gettysburg\n",
            "SSLCertVerificationError\n",
            "-1\n",
            "QUESTION:  Who developed the video game World of Warcraft?\n",
            "REPONSE ATTENDU ['http://dbpedia.org/resource/Blizzard_Entertainment']\n",
            "LA QUESTION = >> Who developed the video game World of Warcraft?\n",
            "Entite:  ['World of Warcraft']\n",
            "Les sujets:  ['developed', 'video', 'game']\n",
            "http://lookup.dbpedia.org/api/search/KeywordSearch?QueryClass=Person&QueryString=World%20of%20Warcraft\n",
            "SSLCertVerificationError\n",
            "-1\n",
            "cancel\n",
            "QUESTION:  Who developed the video game World of Warcraft?\n",
            "REPONSE ATTENDU ['http://dbpedia.org/resource/Blizzard_Entertainment']\n",
            "LA QUESTION = >> Who developed the video game World of Warcraft?\n",
            "Entite:  ['World of Warcraft']\n",
            "Les sujets:  ['developed', 'video', 'game']\n",
            "http://lookup.dbpedia.org/api/search/KeywordSearch?QueryClass=Person&QueryString=World%20of%20Warcraft\n",
            "SSLCertVerificationError\n",
            "-1\n",
            "QUESTION:  Give me the homepage of Forbes.\n",
            "REPONSE ATTENDU ['http://www.forbes.com']\n",
            "LA QUESTION = >> Give me the homepage of Forbes.\n",
            "Entite:  ['Forbes']\n",
            "Les sujets:  ['homepage']\n",
            "http://lookup.dbpedia.org/api/search/KeywordSearch?QueryClass=Resource&QueryString=Forbes\n",
            "SSLCertVerificationError\n",
            "-1\n",
            "cancel\n",
            "QUESTION:  Give me the homepage of Forbes.\n",
            "REPONSE ATTENDU ['http://www.forbes.com']\n",
            "LA QUESTION = >> Give me the homepage of Forbes.\n",
            "Entite:  ['Forbes']\n",
            "Les sujets:  ['homepage']\n",
            "http://lookup.dbpedia.org/api/search/KeywordSearch?QueryClass=Resource&QueryString=Forbes\n",
            "SSLCertVerificationError\n",
            "-1\n",
            "QUESTION:  Which awards did WikiLeaks win?\n",
            "REPONSE ATTENDU ['http://dbpedia.org/resource/Index_on_Censorship', 'http://dbpedia.org/resource/Amnesty_International_UK_Media_Awards', 'http://dbpedia.org/resource/Sam_Adams_Award']\n",
            "LA QUESTION = >> Which awards did WikiLeaks win?\n",
            "Entite:  ['WikiLeaks']\n",
            "Les sujets:  ['awards', 'win']\n",
            "http://lookup.dbpedia.org/api/search/KeywordSearch?QueryClass=Resource&QueryString=WikiLeaks\n",
            "SSLCertVerificationError\n",
            "-1\n",
            "cancel\n",
            "QUESTION:  Which awards did WikiLeaks win?\n",
            "REPONSE ATTENDU ['http://dbpedia.org/resource/Index_on_Censorship', 'http://dbpedia.org/resource/Amnesty_International_UK_Media_Awards', 'http://dbpedia.org/resource/Sam_Adams_Award']\n",
            "LA QUESTION = >> Which awards did WikiLeaks win?\n",
            "Entite:  ['WikiLeaks']\n",
            "Les sujets:  ['awards', 'win']\n",
            "http://lookup.dbpedia.org/api/search/KeywordSearch?QueryClass=Resource&QueryString=WikiLeaks\n",
            "SSLCertVerificationError\n",
            "-1\n",
            "QUESTION:  Give me all actors starring in Last Action Hero.\n",
            "REPONSE ATTENDU ['http://dbpedia.org/resource/Arnold_Schwarzenegger', 'http://dbpedia.org/resource/Anthony_Quinn', 'http://dbpedia.org/resource/F._Murray_Abraham', 'http://dbpedia.org/resource/Art_Carney', \"http://dbpedia.org/resource/Austin_O'Brien\", 'http://dbpedia.org/resource/Tom_Noonan', 'http://dbpedia.org/resource/Bridgette_Wilson', 'http://dbpedia.org/resource/Charles_Dance', 'http://dbpedia.org/resource/Robert_Prosky']\n",
            "LA QUESTION = >> Give me all actors starring in Last Action Hero.\n",
            "Entite:  ['Last Action Hero']\n",
            "Les sujets:  ['actors', 'starring']\n",
            "[['http://dbpedia.org/resource/John_McTiernan'], ['http://dbpedia.org/resource/John_McTiernan'], ['Arnold Schwarzenegger', '', 'Anthony Quinn', 'Charles Dance', 'F. Murray Abraham', 'Mercedes Ruehl', 'Tom Noonan', 'Art Carney', \"Austin O'Brien\", 'Frank McRae', 'Robert Prosky'], ['http://dbpedia.org/resource/Frank_McRae', 'http://dbpedia.org/resource/Anthony_Quinn', 'http://dbpedia.org/resource/Tom_Noonan', 'http://dbpedia.org/resource/Mercedes_Ruehl', 'http://dbpedia.org/resource/F._Murray_Abraham', 'http://dbpedia.org/resource/Arnold_Schwarzenegger', 'http://dbpedia.org/resource/Art_Carney', \"http://dbpedia.org/resource/Austin_O'Brien\", 'http://dbpedia.org/resource/Charles_Dance', 'http://dbpedia.org/resource/Robert_Prosky']]\n",
            "Mince cest ratee\n",
            "QUESTION:  Give me all actors starring in Last Action Hero.\n",
            "REPONSE ATTENDU ['http://dbpedia.org/resource/Arnold_Schwarzenegger', 'http://dbpedia.org/resource/Anthony_Quinn', 'http://dbpedia.org/resource/F._Murray_Abraham', 'http://dbpedia.org/resource/Art_Carney', \"http://dbpedia.org/resource/Austin_O'Brien\", 'http://dbpedia.org/resource/Tom_Noonan', 'http://dbpedia.org/resource/Bridgette_Wilson', 'http://dbpedia.org/resource/Charles_Dance', 'http://dbpedia.org/resource/Robert_Prosky']\n",
            "LA QUESTION = >> Give me all actors starring in Last Action Hero.\n",
            "Entite:  ['Last Action Hero']\n",
            "Les sujets:  ['actors', 'starring']\n",
            "[['http://dbpedia.org/resource/John_McTiernan'], ['http://dbpedia.org/resource/John_McTiernan'], ['Arnold Schwarzenegger', '', 'Anthony Quinn', 'Charles Dance', 'F. Murray Abraham', 'Mercedes Ruehl', 'Tom Noonan', 'Art Carney', \"Austin O'Brien\", 'Frank McRae', 'Robert Prosky'], ['http://dbpedia.org/resource/Frank_McRae', 'http://dbpedia.org/resource/Anthony_Quinn', 'http://dbpedia.org/resource/Tom_Noonan', 'http://dbpedia.org/resource/Mercedes_Ruehl', 'http://dbpedia.org/resource/F._Murray_Abraham', 'http://dbpedia.org/resource/Arnold_Schwarzenegger', 'http://dbpedia.org/resource/Art_Carney', \"http://dbpedia.org/resource/Austin_O'Brien\", 'http://dbpedia.org/resource/Charles_Dance', 'http://dbpedia.org/resource/Robert_Prosky']]\n",
            "Mince cest ratee\n",
            "QUESTION:  Who is the owner of Universal Studios?\n",
            "REPONSE ATTENDU ['http://dbpedia.org/resource/General_Electric', 'http://dbpedia.org/resource/MCA_Inc.', 'http://dbpedia.org/resource/Seagram', 'http://dbpedia.org/resource/Comcast', 'http://dbpedia.org/resource/NBCUniversal', 'http://dbpedia.org/resource/Vivendi', 'http://dbpedia.org/resource/Independent_business']\n",
            "LA QUESTION = >> Who is the owner of Universal Studios?\n",
            "Entite:  ['Universal Studios']\n",
            "Les sujets:  ['owner']\n",
            "http://lookup.dbpedia.org/api/search/KeywordSearch?QueryClass=Person&QueryString=Universal%20Studios\n",
            "SSLCertVerificationError\n",
            "-1\n",
            "cancel\n",
            "QUESTION:  Who is the owner of Universal Studios?\n",
            "REPONSE ATTENDU ['http://dbpedia.org/resource/General_Electric', 'http://dbpedia.org/resource/MCA_Inc.', 'http://dbpedia.org/resource/Seagram', 'http://dbpedia.org/resource/Comcast', 'http://dbpedia.org/resource/NBCUniversal', 'http://dbpedia.org/resource/Vivendi', 'http://dbpedia.org/resource/Independent_business']\n",
            "LA QUESTION = >> Who is the owner of Universal Studios?\n",
            "Entite:  ['Universal Studios']\n",
            "Les sujets:  ['owner']\n",
            "http://lookup.dbpedia.org/api/search/KeywordSearch?QueryClass=Person&QueryString=Universal%20Studios\n",
            "SSLCertVerificationError\n",
            "-1\n",
            "QUESTION:  What did Bruce Carver die from?\n",
            "REPONSE ATTENDU ['http://dbpedia.org/resource/Cancer']\n",
            "LA QUESTION = >> What did Bruce Carver die from?\n",
            "Entite:  ['Bruce Carver']\n",
            "Les sujets:  ['die']\n",
            "http://lookup.dbpedia.org/api/search/KeywordSearch?QueryClass=place&QueryString=Bruce%20Carver\n",
            "SSLCertVerificationError\n",
            "-1\n",
            "cancel\n",
            "QUESTION:  What did Bruce Carver die from?\n",
            "REPONSE ATTENDU ['http://dbpedia.org/resource/Cancer']\n",
            "LA QUESTION = >> What did Bruce Carver die from?\n",
            "Entite:  ['Bruce Carver']\n",
            "Les sujets:  ['die']\n",
            "http://lookup.dbpedia.org/api/search/KeywordSearch?QueryClass=place&QueryString=Bruce%20Carver\n",
            "SSLCertVerificationError\n",
            "-1\n",
            "recall: 25.0 %\n",
            "precision 4.3478260869565215 %\n",
            "mesure F globale 0.0008715642178910544 \n"
          ]
        }
      ]
    }
  ]
}